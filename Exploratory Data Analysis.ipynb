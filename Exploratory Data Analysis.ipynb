{
 "cells": [
  {
   "cell_type": "markdown",
   "metadata": {},
   "source": [
    "# Exploratory Data Analysis\n",
    "\n",
    "In this notebook, we'll explore the relationships (if they exist) amongst the Zika virus data and the precipitation data across Argentina."
   ]
  },
  {
   "cell_type": "markdown",
   "metadata": {},
   "source": [
    "## Import libraries\n",
    "\n",
    "We'll begin by importing all the necessary libraries. This includes `pandas` to work with csv files and data frames, `matplotlib` to draw plots and `geopandas` to work with geographical data. We'll also import necessary additional libraries (`descartes` and `Point`) to make everything work together."
   ]
  },
  {
   "cell_type": "code",
   "execution_count": 1,
   "metadata": {},
   "outputs": [],
   "source": [
    "import pandas as pd\n",
    "\n",
    "import matplotlib.pyplot as plt\n",
    "%matplotlib inline\n",
    "\n",
    "import descartes\n",
    "import geopandas as gpd\n",
    "from shapely.geometry import Point"
   ]
  },
  {
   "cell_type": "markdown",
   "metadata": {},
   "source": [
    "## Load datasets\n",
    "\n",
    "We'll load in the data for coordinates for various provinces in Argentina via a file `places.csv`. Then, we'll import the Zika and precipitation monthly files."
   ]
  },
  {
   "cell_type": "code",
   "execution_count": 2,
   "metadata": {},
   "outputs": [],
   "source": [
    "# Location information\n",
    "places = pd.read_csv(\"zika_data/places.csv\")\n",
    "\n",
    "# April, 2016 Zika data\n",
    "zika_data = pd.read_csv(\"zika_data/2016-04.csv\")\n",
    "# April, 2016 Precipitation information\n",
    "precipitation_data = pd.read_csv(\"data/precipitation_4_2016.csv\")"
   ]
  },
  {
   "cell_type": "markdown",
   "metadata": {},
   "source": [
    "## Universal functions\n",
    "\n",
    "Here, we define a set of functions that can be used for any month and handle both the Zika and the precipitation datasets."
   ]
  },
  {
   "cell_type": "markdown",
   "metadata": {},
   "source": [
    "### Function: get_zika_coordinates\n",
    "\n",
    "This function returns the list of all provinces of Argentina, with their coordinates and the number of Zika cases for that given month."
   ]
  },
  {
   "cell_type": "code",
   "execution_count": 3,
   "metadata": {},
   "outputs": [],
   "source": [
    "def get_zika_coordinates(data, places):\n",
    "    \"\"\"\n",
    "    The function combines the Zika data with coordinates of \n",
    "    its respective province and then returns the aggregated \n",
    "    data for each province.\n",
    "    \"\"\"\n",
    "    \n",
    "    data_updated = pd.merge(data, \n",
    "                            places, \n",
    "                            how = 'inner', \n",
    "                            left_on = \"location\", \n",
    "                            right_on = \"location\")\n",
    "    \n",
    "    data_updated = data_updated[[\"location\", \"value\", \"latitude\", \"longitude\"]] \\\n",
    "                                .groupby([\"location\", \"latitude\", \"longitude\"]) \\\n",
    "                                .sum().reset_index()\n",
    "\n",
    "    data_updated[\"location\"] = data_updated[\"location\"] \\\n",
    "                                            .apply(lambda x: x.split(\"-\")[1] \\\n",
    "                                                   .replace(\"_\", \" \"))\n",
    "    \n",
    "    return data_updated"
   ]
  }
 ],
 "metadata": {
  "kernelspec": {
   "display_name": "Python 3",
   "language": "python",
   "name": "python3"
  },
  "language_info": {
   "codemirror_mode": {
    "name": "ipython",
    "version": 3
   },
   "file_extension": ".py",
   "mimetype": "text/x-python",
   "name": "python",
   "nbconvert_exporter": "python",
   "pygments_lexer": "ipython3",
   "version": "3.7.4"
  }
 },
 "nbformat": 4,
 "nbformat_minor": 2
}
