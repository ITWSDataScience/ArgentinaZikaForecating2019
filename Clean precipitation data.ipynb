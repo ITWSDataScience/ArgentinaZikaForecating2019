{
 "cells": [
  {
   "cell_type": "markdown",
   "metadata": {},
   "source": [
    "# Clean precipitation data\n",
    "\n",
    "In this notebook, I'll use spacial join to extract all data points that just lie inside the Argentina region and save it."
   ]
  },
  {
   "cell_type": "markdown",
   "metadata": {},
   "source": [
    "## Import libraries\n",
    "\n",
    "I'll use the `shapely` and `geopandas` libraries to work with the spacial data."
   ]
  },
  {
   "cell_type": "code",
   "execution_count": 1,
   "metadata": {},
   "outputs": [],
   "source": [
    "import numpy as np\n",
    "import pandas as pd\n",
    "\n",
    "import descartes\n",
    "import geopandas as gpd\n",
    "from geopandas.tools import sjoin\n",
    "from shapely.geometry import Point, Polygon, shape"
   ]
  },
  {
   "cell_type": "markdown",
   "metadata": {},
   "source": [
    "## Load data\n",
    "\n",
    "I'll load in the data converted from HDF5 to CSV, so that I can retrieve useful information from it. I'll also load the shapefile for Argentina."
   ]
  },
  {
   "cell_type": "code",
   "execution_count": 2,
   "metadata": {},
   "outputs": [],
   "source": [
    "dataset = pd.read_csv(\"data/combined_data.csv\")\n",
    "argentina = gpd.read_file(\"shapefiles/country/ARG_adm0.shp\")"
   ]
  },
  {
   "cell_type": "markdown",
   "metadata": {},
   "source": [
    "## Retrieve correct points\n",
    "\n",
    "Next, I'll select only the data points that lie within Argentina."
   ]
  },
  {
   "cell_type": "markdown",
   "metadata": {},
   "source": [
    "### March 2016"
   ]
  },
  {
   "cell_type": "code",
   "execution_count": 3,
   "metadata": {},
   "outputs": [],
   "source": [
    "temp_df = dataset[(dataset[\"year\"] == 2016) & (dataset[\"month\"] == 3)].reset_index(drop = True)\n",
    "\n",
    "geometry = [Point(xy) for xy in zip(temp_df[\"longitude\"], temp_df[\"latitude\"])]\n",
    "points = gpd.GeoDataFrame(temp_df, crs = {'init': 'epsg:4326'}, geometry = geometry)\n",
    "\n",
    "final_df = sjoin(points, argentina, how = 'inner', op = 'intersects')\n",
    "final_df = final_df[[\"year\", \"month\", \"latitude\", \"longitude\", \"precipitation\", \"geometry\"]].reset_index(drop = True)\n",
    "final_df.to_csv(\"data/precipitation_3_2016.csv\", index = False)"
   ]
  },
  {
   "cell_type": "markdown",
   "metadata": {},
   "source": [
    "### March 2017"
   ]
  },
  {
   "cell_type": "code",
   "execution_count": 4,
   "metadata": {},
   "outputs": [],
   "source": [
    "temp_df = dataset[(dataset[\"year\"] == 2017) & (dataset[\"month\"] == 3)].reset_index(drop = True)\n",
    "geometry = [Point(xy) for xy in zip(temp_df[\"longitude\"], temp_df[\"latitude\"])]\n",
    "points = gpd.GeoDataFrame(temp_df, crs = {'init': 'epsg:4326'}, geometry = geometry)\n",
    "final_df = sjoin(points, argentina, how = 'inner', op = 'intersects')\n",
    "final_df = final_df[[\"year\", \"month\", \"latitude\", \"longitude\", \"precipitation\", \"geometry\"]].reset_index(drop = True)\n",
    "final_df.to_csv(\"data/precipitation_3_2017.csv\")"
   ]
  }
 ],
 "metadata": {
  "kernelspec": {
   "display_name": "Python 3",
   "language": "python",
   "name": "python3"
  },
  "language_info": {
   "codemirror_mode": {
    "name": "ipython",
    "version": 3
   },
   "file_extension": ".py",
   "mimetype": "text/x-python",
   "name": "python",
   "nbconvert_exporter": "python",
   "pygments_lexer": "ipython3",
   "version": "3.7.4"
  }
 },
 "nbformat": 4,
 "nbformat_minor": 2
}
