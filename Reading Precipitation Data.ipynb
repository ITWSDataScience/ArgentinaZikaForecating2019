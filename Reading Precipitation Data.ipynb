{
 "cells": [
  {
   "cell_type": "markdown",
   "metadata": {},
   "source": [
    "# Reading Precipitation Data\n",
    "\n",
    "In this notebook, we'll read the HDF5 data files about precipitation data and then process it to combine all together from January, 2016 to December, 2017."
   ]
  },
  {
   "cell_type": "markdown",
   "metadata": {},
   "source": [
    "## Import libraries\n",
    "\n",
    "We'll need to use the `h5py` library to read the HDF5 files and then `pandas` to create a data frame and save it as a CSV file."
   ]
  },
  {
   "cell_type": "code",
   "execution_count": 1,
   "metadata": {},
   "outputs": [],
   "source": [
    "import h5py\n",
    "import pandas as pd"
   ]
  },
  {
   "cell_type": "markdown",
   "metadata": {},
   "source": [
    "## Explore the file components\n",
    "\n",
    "We'll first explore the items in the first dataset and select the data we want to keep. All original files are inside the `raw_data` folder."
   ]
  },
  {
   "cell_type": "code",
   "execution_count": 6,
   "metadata": {},
   "outputs": [
    {
     "name": "stdout",
     "output_type": "stream",
     "text": [
      "('gaugeRelativeWeighting', <HDF5 dataset \"gaugeRelativeWeighting\": shape (1, 232, 364), type \"<i2\">)\n",
      "('lat', <HDF5 dataset \"lat\": shape (364,), type \"<f4\">)\n",
      "('lon', <HDF5 dataset \"lon\": shape (232,), type \"<f4\">)\n",
      "('precipitation', <HDF5 dataset \"precipitation\": shape (1, 232, 364), type \"<f4\">)\n",
      "('precipitationQualityIndex', <HDF5 dataset \"precipitationQualityIndex\": shape (1, 232, 364), type \"<f4\">)\n",
      "('probabilityLiquidPrecipitation', <HDF5 dataset \"probabilityLiquidPrecipitation\": shape (1, 232, 364), type \"<i2\">)\n",
      "('randomError', <HDF5 dataset \"randomError\": shape (1, 232, 364), type \"<f4\">)\n",
      "('time', <HDF5 dataset \"time\": shape (1,), type \"<f8\">)\n"
     ]
    }
   ],
   "source": [
    "file = h5py.File('raw_data/3B-MO.MS.MRG.3IMERG.20160101-S000000-E235959.01.V06B.HDF5.SUB.hdf5', 'r')\n",
    "\n",
    "for item in file.items():\n",
    "    print(item)"
   ]
  },
  {
   "cell_type": "markdown",
   "metadata": {},
   "source": [
    "As we can see, the data includes latitute and longitude values as `lat` and `lon` respectively. Furthermore, precipitation data is available in `precipitation`. We'll just use these three data attributes."
   ]
  },
  {
   "cell_type": "markdown",
   "metadata": {},
   "source": [
    "## Define arrays and append data\n",
    "\n",
    "We'll create 5 arrays with the following data:\n",
    "- **year:** The year of precipitation data.\n",
    "- **month:** The month of precipitation data.\n",
    "- **latitude:** The latitude value.\n",
    "- **longitude:** The longitude value.\n",
    "- **precipitation:** The actual value of precipitation for that month."
   ]
  },
  {
   "cell_type": "code",
   "execution_count": 16,
   "metadata": {},
   "outputs": [],
   "source": [
    "years = [\"2016\", \"2017\"]\n",
    "months = [\"01\", \"02\", \"03\", \"04\", \"05\", \"06\", \"07\", \"08\", \"09\", \"10\", \"11\", \"12\"]\n",
    "year = []\n",
    "month = []\n",
    "latitude = []\n",
    "longitude = []\n",
    "precipitation = []"
   ]
  },
  {
   "cell_type": "code",
   "execution_count": 17,
   "metadata": {},
   "outputs": [],
   "source": [
    "for yr in years:\n",
    "    for mnth in months:\n",
    "        file = h5py.File(\"raw_data/\" + \n",
    "                            \"3B-MO.MS.MRG.3IMERG.\" + yr + mnth + \n",
    "                            \"01-S000000-E235959.\" + mnth + \".V06B.HDF5.SUB.hdf5\", \"r\")\n",
    "        \n",
    "        precipitation_vals = []\n",
    "        for data in file['precipitation']:\n",
    "            precipitation_vals.append(data)\n",
    "        for i, lon in enumerate(file['lon']):\n",
    "            data = precipitation_vals[0][i]\n",
    "            for j, lat in enumerate(file['lat']):\n",
    "                year.append(yr)\n",
    "                month.append(mnth)\n",
    "                latitude.append(lat)\n",
    "                longitude.append(lon)\n",
    "                precipitation.append(data[j])"
   ]
  },
  {
   "cell_type": "markdown",
   "metadata": {},
   "source": [
    "## Create dataset and save\n",
    "\n",
    "Now that we've compiled all our data into specific arrays, we can store it as a CSV file in the data file."
   ]
  },
  {
   "cell_type": "code",
   "execution_count": 20,
   "metadata": {},
   "outputs": [],
   "source": [
    "df = pd.DataFrame({\"year\": year, \n",
    "                   \"month\": month, \n",
    "                   \"latitude\": latitude, \n",
    "                   \"longitude\": longitude, \n",
    "                   \"precipitation\": precipitation})"
   ]
  },
  {
   "cell_type": "code",
   "execution_count": 21,
   "metadata": {},
   "outputs": [
    {
     "data": {
      "text/html": [
       "<div>\n",
       "<style scoped>\n",
       "    .dataframe tbody tr th:only-of-type {\n",
       "        vertical-align: middle;\n",
       "    }\n",
       "\n",
       "    .dataframe tbody tr th {\n",
       "        vertical-align: top;\n",
       "    }\n",
       "\n",
       "    .dataframe thead th {\n",
       "        text-align: right;\n",
       "    }\n",
       "</style>\n",
       "<table border=\"1\" class=\"dataframe\">\n",
       "  <thead>\n",
       "    <tr style=\"text-align: right;\">\n",
       "      <th></th>\n",
       "      <th>year</th>\n",
       "      <th>month</th>\n",
       "      <th>latitude</th>\n",
       "      <th>longitude</th>\n",
       "      <th>precipitation</th>\n",
       "    </tr>\n",
       "  </thead>\n",
       "  <tbody>\n",
       "    <tr>\n",
       "      <th>0</th>\n",
       "      <td>2016</td>\n",
       "      <td>01</td>\n",
       "      <td>-56.549999</td>\n",
       "      <td>-75.349998</td>\n",
       "      <td>0.255904</td>\n",
       "    </tr>\n",
       "    <tr>\n",
       "      <th>1</th>\n",
       "      <td>2016</td>\n",
       "      <td>01</td>\n",
       "      <td>-56.450001</td>\n",
       "      <td>-75.349998</td>\n",
       "      <td>0.237106</td>\n",
       "    </tr>\n",
       "    <tr>\n",
       "      <th>2</th>\n",
       "      <td>2016</td>\n",
       "      <td>01</td>\n",
       "      <td>-56.349998</td>\n",
       "      <td>-75.349998</td>\n",
       "      <td>0.230770</td>\n",
       "    </tr>\n",
       "    <tr>\n",
       "      <th>3</th>\n",
       "      <td>2016</td>\n",
       "      <td>01</td>\n",
       "      <td>-56.250000</td>\n",
       "      <td>-75.349998</td>\n",
       "      <td>0.224248</td>\n",
       "    </tr>\n",
       "    <tr>\n",
       "      <th>4</th>\n",
       "      <td>2016</td>\n",
       "      <td>01</td>\n",
       "      <td>-56.150002</td>\n",
       "      <td>-75.349998</td>\n",
       "      <td>0.234647</td>\n",
       "    </tr>\n",
       "  </tbody>\n",
       "</table>\n",
       "</div>"
      ],
      "text/plain": [
       "   year month   latitude  longitude  precipitation\n",
       "0  2016    01 -56.549999 -75.349998       0.255904\n",
       "1  2016    01 -56.450001 -75.349998       0.237106\n",
       "2  2016    01 -56.349998 -75.349998       0.230770\n",
       "3  2016    01 -56.250000 -75.349998       0.224248\n",
       "4  2016    01 -56.150002 -75.349998       0.234647"
      ]
     },
     "execution_count": 21,
     "metadata": {},
     "output_type": "execute_result"
    }
   ],
   "source": [
    "df.head(5)"
   ]
  },
  {
   "cell_type": "code",
   "execution_count": 25,
   "metadata": {},
   "outputs": [],
   "source": [
    "df.to_csv(\"data/combined_data.csv\", index = False)"
   ]
  }
 ],
 "metadata": {
  "kernelspec": {
   "display_name": "Python 3",
   "language": "python",
   "name": "python3"
  },
  "language_info": {
   "codemirror_mode": {
    "name": "ipython",
    "version": 3
   },
   "file_extension": ".py",
   "mimetype": "text/x-python",
   "name": "python",
   "nbconvert_exporter": "python",
   "pygments_lexer": "ipython3",
   "version": "3.7.4"
  }
 },
 "nbformat": 4,
 "nbformat_minor": 2
}
